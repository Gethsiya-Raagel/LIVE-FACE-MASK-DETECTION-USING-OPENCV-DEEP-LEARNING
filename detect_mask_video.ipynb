{
 "cells": [
  {
   "cell_type": "markdown",
   "metadata": {},
   "source": [
    "# LIVE MASK DETECTION"
   ]
  },
  {
   "cell_type": "code",
   "execution_count": null,
   "metadata": {},
   "outputs": [],
   "source": []
  },
  {
   "cell_type": "code",
   "execution_count": 2,
   "metadata": {},
   "outputs": [],
   "source": [
    "def detect_and_predict_mask(frame, faceNet, maskNet):\n",
    "    (h, w) = frame.shape[:2]\n",
    "    \n",
    "    blob = cv2.dnn.blobFromImage(frame, 1.0, (300, 300),\n",
    "                                 (104.0, 177.0, 123.0))\n",
    "    faceNet.setInput(blob)\n",
    "    detections = faceNet.forward()\n",
    "    faces = []\n",
    "    locs = []\n",
    "    preds = []\n",
    "    for i in range(0, detections.shape[2]):\n",
    "        confidence = detections[0, 0, i, 2]\n",
    "        \n",
    "        if confidence > args[\"confidence\"]:\n",
    "           \n",
    "            box = detections[0, 0, i, 3:7] * np.array([w, h, w, h])\n",
    "            (startX, startY, endX, endY) = box.astype(\"int\")\n",
    "            (startX, startY) = (max(0, startX), max(0, startY))\n",
    "            (endX, endY) = (min(w - 1, endX), min(h - 1, endY))\n",
    "            face = frame[startY:endY, startX:endX]\n",
    "            face = cv2.cvtColor(face, cv2.COLOR_BGR2RGB)\n",
    "        \n",
    "    (H, W) = image.shape[:2] \n",
    "            face = cv2.resize(face, (224, 224))\n",
    "            face = img_to_array(face)\n",
    "            face = preprocess_input(face)\n",
    "            faces.append(face)\n",
    "            locs.append((startX, startY, endX, endY))\n",
    "            if len(faces) > 0:\n",
    "                faces = np.array(faces, dtype=\"float32\")\n",
    "                preds = maskNet.predict(faces, batch_size=32)\n",
    "            return (locs, preds)\n",
    "            ap = argparse.ArgumentParser()\n",
    "            ap.add_argument(\"-f\", \"--face\", type=str,\n",
    "                            default=\"face_detector\",\n",
    "                            help=\"path to face detector model directory\")\n",
    "            ap.add_argument(\"-m\", \"--model\", type=str,\n",
    "                            default=\"mask_detector.model\",\n",
    "                            help=\"path to trained face mask detector model\")\n",
    "            ap.add_argument(\"-c\", \"--confidence\", type=float, default=0.5,\n",
    "                            help=\"minimum probability to filter weak detections\")\n",
    "            args = vars(ap.parse_args())\n",
    "            print(\"[INFO] loading face detector model...\")\n",
    "            prototxtPath = os.path.sep.join([args[\"face\"], \"deploy.prototxt\"])\n",
    "            weightsPath = os.path.sep.join([args[\"face\"],\n",
    "                                            \"res10_300x300_ssd_iter_140000.caffemodel\"])\n",
    "            faceNet = cv2.dnn.readNet(prototxtPath, weightsPath)\n",
    "            print(\"[INFO] loading face mask detector model...\")\n",
    "            maskNet = load_model(args[\"model\"])\n",
    "            print(\"[INFO] starting video stream...\")\n",
    "        \n",
    "            vs = VideoStream(src=0).start() \n",
    "            time.sleep(2.0)\n",
    "            while True:\n",
    "                frame = vs.read()\n",
    "                frame = imutils.resize(frame, width=400)\n",
    "                (locs, preds) = detect_and_predict_mask(frame, faceNet, maskNet)\n",
    "                for (box, pred) in zip(locs, preds):\n",
    "                    (startX, startY, endX, endY) = box\n",
    "                    (mask, withoutMask) = pred\n",
    "                    label = \"Mask\" if mask > withoutMask else \"No Mask\"\n",
    "                    color = (0, 255, 0) if label == \"Mask\" else (0, 0, 255)\n",
    "                    label = \"{}: {:.2f}%\".format(label, max(mask, withoutMask) * 100)\n",
    "                    cv2.putText(frame, label, (startX, startY - 10),\n",
    "                                cv2.FONT_HERSHEY_SIMPLEX, 0.45, color, 2)\n",
    "\n",
    "                    cv2.rectangle(frame, (startX, startY), (endX, endY), color, 2)\n",
    "                cv2.imshow(\"Frame\", frame)\n",
    "                key = cv2.waitKey(1) & 0xFF\n",
    "                if key == ord(\"q\"):\n",
    "                    break\n",
    "            cv2.destroyAllWindows()\n",
    "            vs.stop()\n"
   ]
  },
  {
   "cell_type": "code",
   "execution_count": null,
   "metadata": {},
   "outputs": [],
   "source": []
  }
 ],
 "metadata": {
  "kernelspec": {
   "display_name": "Python 3",
   "language": "python",
   "name": "python3"
  },
  "language_info": {
   "codemirror_mode": {
    "name": "ipython",
    "version": 3
   },
   "file_extension": ".py",
   "mimetype": "text/x-python",
   "name": "python",
   "nbconvert_exporter": "python",
   "pygments_lexer": "ipython3",
   "version": "3.7.4"
  }
 },
 "nbformat": 4,
 "nbformat_minor": 2
}
